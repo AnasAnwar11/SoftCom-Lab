{
  "nbformat": 4,
  "nbformat_minor": 0,
  "metadata": {
    "colab": {
      "name": "Assignment3.ipynb",
      "provenance": [],
      "collapsed_sections": []
    },
    "kernelspec": {
      "name": "python3",
      "display_name": "Python 3"
    },
    "language_info": {
      "name": "python"
    }
  },
  "cells": [
    {
      "cell_type": "code",
      "metadata": {
        "id": "AHQ0j1oGxWbL"
      },
      "source": [
        "import pandas as pd\n",
        "from torch.utils.data import DataLoader, Dataset\n",
        "from sklearn.feature_extraction.text import CountVectorizer\n",
        "import torch\n",
        "import torch.nn as nn\n",
        "import torch.optim as optim\n",
        "from torchsummary import summary\n",
        "import seaborn as sns\n",
        "import matplotlib.pyplot as plt\n",
        "import warnings\n",
        "warnings.filterwarnings(\"ignore\") \n",
        "from sklearn.metrics import confusion_matrix, precision_score, recall_score, f1_score\n",
        "import numpy as np"
      ],
      "execution_count": null,
      "outputs": []
    },
    {
      "cell_type": "code",
      "metadata": {
        "colab": {
          "base_uri": "https://localhost:8080/"
        },
        "id": "shI1xBwSQqdp",
        "outputId": "7e5067cb-8755-45af-c15e-f9372c1c402c"
      },
      "source": [
        "from google.colab import drive\n",
        "drive.mount('/content/drive', force_remount=True)"
      ],
      "execution_count": null,
      "outputs": [
        {
          "output_type": "stream",
          "name": "stdout",
          "text": [
            "Mounted at /content/drive\n"
          ]
        }
      ]
    },
    {
      "cell_type": "code",
      "metadata": {
        "id": "NHg2yCDWxoIh"
      },
      "source": [
        "df = pd.read_csv('/content/drive/MyDrive/Dataset 2/Dataset 2.csv', encoding='latin1')"
      ],
      "execution_count": null,
      "outputs": []
    },
    {
      "cell_type": "code",
      "metadata": {
        "id": "tpmd2bv-x-H_"
      },
      "source": [
        "class Sequences(Dataset):\n",
        "    def __init__(self, data):\n",
        "        self.vectorizer = CountVectorizer(stop_words='english')\n",
        "        self.sequences = self.vectorizer.fit_transform(data.text.tolist())\n",
        "        self.labels = data.polarity.tolist()\n",
        "        self.token2idx = self.vectorizer.vocabulary_\n",
        "        self.idx2token = {idx: token for token, idx in self.token2idx.items()}\n",
        "    \n",
        "    def __getitem__(self, i):\n",
        "        return self.sequences[i, :].toarray(), self.labels[i]\n",
        "    \n",
        "    def __len__(self):\n",
        "        return self.sequences.shape[0]"
      ],
      "execution_count": null,
      "outputs": []
    },
    {
      "cell_type": "code",
      "metadata": {
        "id": "4uS7Pf9hyBu4"
      },
      "source": [
        "batch_size = 100\n",
        "\n",
        "dataset = Sequences(df)\n",
        "train_size = int(len(dataset) * .8);\n",
        "test_size = int(len(dataset) - train_size);\n",
        "train_dataset, test_dataset = torch.utils.data.random_split(dataset,[train_size, test_size])\n",
        "train_loader = DataLoader(train_dataset, batch_size=batch_size)\n",
        "test_loader = DataLoader(test_dataset, batch_size=batch_size)"
      ],
      "execution_count": null,
      "outputs": []
    },
    {
      "cell_type": "code",
      "metadata": {
        "id": "Rx34qgH5yHK3"
      },
      "source": [
        "input_size = len(dataset.token2idx)\n",
        "hidden_size = 128\n",
        "num_classes = 2\n",
        "num_layers = 3\n",
        "learning_rate = 0.01\n",
        "sequence_length = 5\n",
        "num_epochs = 5"
      ],
      "execution_count": null,
      "outputs": []
    },
    {
      "cell_type": "code",
      "metadata": {
        "id": "v9ekxGPkyK13",
        "colab": {
          "base_uri": "https://localhost:8080/"
        },
        "outputId": "ecb6cf1c-bdb0-4c9b-84e8-5a4d191e60ea"
      },
      "source": [
        "device = torch.device('cuda' if torch.cuda.is_available() else 'cpu')\n",
        "device"
      ],
      "execution_count": null,
      "outputs": [
        {
          "output_type": "execute_result",
          "data": {
            "text/plain": [
              "device(type='cpu')"
            ]
          },
          "metadata": {},
          "execution_count": 31
        }
      ]
    },
    {
      "cell_type": "code",
      "metadata": {
        "id": "LIIYKSnqyORY"
      },
      "source": [
        "class LSTM(nn.Module):\n",
        "    def __init__(self, input_size, hidden_size, num_layers, num_classes):\n",
        "        super(LSTM, self).__init__()\n",
        "        self.hidden_size = hidden_size\n",
        "        self.num_layers = num_layers\n",
        "        self.lstm = nn.LSTM(input_size, hidden_size, num_layers, batch_first=True)\n",
        "        self.fc = nn.Linear(self.hidden_size, num_classes)\n",
        "    \n",
        "    def forward(self, x):\n",
        "        # Set initial hidden and cell states \n",
        "        h0 = torch.zeros(self.num_layers, x.size(0), self.hidden_size).to(device) \n",
        "        c0 = torch.zeros(self.num_layers, x.size(0), self.hidden_size).to(device)\n",
        "        \n",
        "        # Forward propagate LSTM\n",
        "        out, _ = self.lstm(x, (h0, c0))\n",
        "        \n",
        "        # Decode the hidden state of the last time step\n",
        "        out = self.fc(out[:, -1, :])\n",
        "        return out"
      ],
      "execution_count": null,
      "outputs": []
    },
    {
      "cell_type": "code",
      "metadata": {
        "id": "uKNon4C5yQ-n"
      },
      "source": [
        "model = LSTM(input_size, hidden_size, num_layers, num_classes).to(device)"
      ],
      "execution_count": null,
      "outputs": []
    },
    {
      "cell_type": "code",
      "metadata": {
        "id": "MpuoC3MVySmI"
      },
      "source": [
        "criterion = nn.CrossEntropyLoss()\n",
        "optimizer = torch.optim.Adam(model.parameters(), lr=learning_rate)"
      ],
      "execution_count": null,
      "outputs": []
    },
    {
      "cell_type": "code",
      "metadata": {
        "id": "kZWpeUrQyZe7",
        "colab": {
          "base_uri": "https://localhost:8080/"
        },
        "outputId": "957448d4-8069-4dc3-e185-dd00466099fa"
      },
      "source": [
        "# Train the model\n",
        "y_pred = []\n",
        "y_test = []\n",
        "iter = []\n",
        "losses = []\n",
        "itr = 0\n",
        "total_step = len(train_loader)\n",
        "for epoch in range(num_epochs):\n",
        "    for i, (text, labels) in enumerate(train_loader):\n",
        "        labels = labels.to(device)\n",
        "        text = torch.tensor(text, dtype = torch.float)\n",
        "        # Forward pass\n",
        "        outputs = model(text)\n",
        "        loss = criterion(outputs, labels)\n",
        "        \n",
        "        # Backward and optimize\n",
        "        optimizer.zero_grad()\n",
        "        loss.backward()\n",
        "        optimizer.step()\n",
        "        itr = itr + 1\n",
        "        if (i+1) % 20 == 0:\n",
        "            iter.append(itr)\n",
        "            losses.append(loss.item())\n",
        "            print ('Epoch [{}/{}], Step [{}/{}], Loss: {:.4f}'\n",
        "                   .format(epoch+1, num_epochs, i+1, total_step, loss.item()))\n",
        "        \n",
        "# Test the model\n",
        "model.eval()\n",
        "with torch.no_grad():\n",
        "    correct = 0\n",
        "    total = 0\n",
        "    for text, labels in test_loader:\n",
        "        labels = labels.to(device)\n",
        "        text = torch.tensor(text, dtype = torch.float)\n",
        "        outputs = model(text)\n",
        "        _, predicted = torch.max(outputs.data, 1)\n",
        "        total += labels.size(0)\n",
        "        correct += (predicted == labels).sum().item()\n",
        "\n",
        "        y_pred.extend(predicted)\n",
        "        y_test.extend(labels)\n",
        "\n",
        "    print('Test Accuracy of the model on the 10000 test texts: {} %'.format(100 * correct / total)) \n",
        "\n",
        "# Save the model checkpoint\n",
        "# torch.save(model.state_dict(), 'model.ckpt')"
      ],
      "execution_count": null,
      "outputs": [
        {
          "output_type": "stream",
          "name": "stdout",
          "text": [
            "Epoch [1/5], Step [20/83], Loss: 0.0354\n",
            "Epoch [1/5], Step [40/83], Loss: 0.0120\n",
            "Epoch [1/5], Step [60/83], Loss: 0.0169\n",
            "Epoch [1/5], Step [80/83], Loss: 0.0302\n",
            "Epoch [2/5], Step [20/83], Loss: 0.0010\n",
            "Epoch [2/5], Step [40/83], Loss: 0.0007\n",
            "Epoch [2/5], Step [60/83], Loss: 0.0004\n",
            "Epoch [2/5], Step [80/83], Loss: 0.0009\n",
            "Epoch [3/5], Step [20/83], Loss: 0.0003\n",
            "Epoch [3/5], Step [40/83], Loss: 0.0003\n",
            "Epoch [3/5], Step [60/83], Loss: 0.0003\n",
            "Epoch [3/5], Step [80/83], Loss: 0.0002\n",
            "Epoch [4/5], Step [20/83], Loss: 0.0003\n",
            "Epoch [4/5], Step [40/83], Loss: 0.0003\n",
            "Epoch [4/5], Step [60/83], Loss: 0.0002\n",
            "Epoch [4/5], Step [80/83], Loss: 0.0001\n",
            "Epoch [5/5], Step [20/83], Loss: 0.0003\n",
            "Epoch [5/5], Step [40/83], Loss: 0.0003\n",
            "Epoch [5/5], Step [60/83], Loss: 0.0003\n",
            "Epoch [5/5], Step [80/83], Loss: 0.0001\n",
            "Test Accuracy of the model on the 10000 test texts: 99.12748424624334 %\n"
          ]
        }
      ]
    },
    {
      "cell_type": "code",
      "metadata": {
        "id": "8TVvVS9bycg8",
        "colab": {
          "base_uri": "https://localhost:8080/",
          "height": 312
        },
        "outputId": "93c815dd-ca30-4883-d10a-9fdb1ffd2be0"
      },
      "source": [
        "plt.plot(iter, losses, label='Loss')\n",
        "plt.title('Loss Curve')\n",
        "plt.ylabel('Loss')\n",
        "plt.xlabel('Iteration')\n",
        "plt.legend()"
      ],
      "execution_count": null,
      "outputs": [
        {
          "output_type": "execute_result",
          "data": {
            "text/plain": [
              "<matplotlib.legend.Legend at 0x7f21d6d68590>"
            ]
          },
          "metadata": {},
          "execution_count": 52
        },
        {
          "output_type": "display_data",
          "data": {
            "image/png": "[encoded data removed]",
            "text/plain": [
              "<Figure size 432x288 with 1 Axes>"
            ]
          },
          "metadata": {
            "needs_background": "light"
          }
        }
      ]
    },
    {
      "cell_type": "code",
      "metadata": {
        "id": "xPx5ZGz6yf3v",
        "colab": {
          "base_uri": "https://localhost:8080/",
          "height": 284
        },
        "outputId": "64cd6c80-e010-4c9f-c7c4-f5c195439223"
      },
      "source": [
        "def show_confusion_matrix(confusion_matrix):\n",
        "  hmap = sns.heatmap(confusion_matrix, annot=True, fmt=\"d\", cmap=\"Blues\")\n",
        "  hmap.yaxis.set_ticklabels(hmap.yaxis.get_ticklabels(), rotation=0, ha='right')\n",
        "  hmap.xaxis.set_ticklabels(hmap.xaxis.get_ticklabels(), rotation=30, ha='right')\n",
        "  plt.ylabel('True polarity')\n",
        "  plt.xlabel('Predicted polarity');\n",
        "cm = confusion_matrix(y_test, y_pred)\n",
        "df_cm = pd.DataFrame(cm, index=[0,1], columns=[0,1])\n",
        "show_confusion_matrix(df_cm)\n"
      ],
      "execution_count": null,
      "outputs": [
        {
          "output_type": "display_data",
          "data": {
            "image/png": "[encoded data removed]",
            "text/plain": [
              "<Figure size 432x288 with 2 Axes>"
            ]
          },
          "metadata": {
            "needs_background": "light"
          }
        }
      ]
    },
    {
      "cell_type": "code",
      "metadata": {
        "colab": {
          "base_uri": "https://localhost:8080/"
        },
        "id": "svf4OEXxXCzy",
        "outputId": "bbd6c7a0-2bfc-4e67-a40e-f2c9b3a3602d"
      },
      "source": [
        "print('F1 score: ', f1_score(y_test, y_pred, average='binary'))\n",
        "print('Precision: ', precision_score(y_test, y_pred, average='binary'))\n",
        "print('Recall: ', recall_score(y_test, y_pred, average='binary'))"
      ],
      "execution_count": null,
      "outputs": [
        {
          "output_type": "stream",
          "name": "stdout",
          "text": [
            "F1 score:  0.9798657718120806\n",
            "Precision:  0.9864864864864865\n",
            "Recall:  0.9733333333333334\n"
          ]
        }
      ]
    }
  ]
}